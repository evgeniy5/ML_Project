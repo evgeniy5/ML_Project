{
 "cells": [
  {
   "cell_type": "code",
   "execution_count": null,
   "metadata": {},
   "outputs": [],
   "source": [
    "from lxml import html\n",
    "import requests\n",
    "import numpy as np\n",
    "import pandas as pd\n",
    "import pickle\n",
    "import osrm"
   ]
  },
  {
   "cell_type": "code",
   "execution_count": null,
   "metadata": {},
   "outputs": [],
   "source": [
    "with open('objects.pickle', 'rb') as f:\n",
    "    objects = pickle.load(f)"
   ]
  },
  {
   "cell_type": "code",
   "execution_count": null,
   "metadata": {},
   "outputs": [],
   "source": [
    "src = np.array(map(lambda x: (x[1], x[0]), objects['building_apartments']), dtype=float) # типа жилые дома"
   ]
  },
  {
   "cell_type": "code",
   "execution_count": null,
   "metadata": {},
   "outputs": [],
   "source": [
    "process = 0\n",
    "number_of_apartments = src.shape[0]\n",
    "\n",
    "for nominator in objects.keys():\n",
    "    if nominator != 'building_apartments':\n",
    "        where = list(np.array(map(lambda x: (x[1], x[0]), objects[nominator]), dtype=float))        \n",
    "        print 'size is %d' % len(where)\n",
    "        \n",
    "        res = np.array([])\n",
    "        \n",
    "        if len(where) * number_of_apartments < 10000000:\n",
    "            res = osrm.table(src, where, output='np')[0]\n",
    "        else :\n",
    "            res = osrm.table(src[:100], where, output='np')[0]\n",
    "            k = 100\n",
    "\n",
    "            chunk = 1\n",
    "            print '    chunk is %d/210' % chunk\n",
    "            while k < number_of_apartments:\n",
    "                part_res = osrm.table(src[k:min(k+100, number_of_apartments)], where, output='np')[0]\n",
    "\n",
    "                res = np.append(res, part_res, axis=0)\n",
    "                k += 100\n",
    "                chunk += 1\n",
    "                if chunk % 50 == 0:\n",
    "                    print '    chunk is %d/210' % chunk\n",
    "\n",
    "        np.save('%s.npy' % nominator, res)\n",
    "            \n",
    "        process += 1\n",
    "        print 'process is %d/39' % process"
   ]
  },
  {
   "cell_type": "code",
   "execution_count": null,
   "metadata": {},
   "outputs": [],
   "source": [
    "# фичи, для которых возможно имеет смысл брать среднее расстояние до 3 ближайших\n",
    "nearest_3_list = ['shop_convenience', 'amenity_fast_food', 'amenity_cafe', 'highway_bus_stop', \\\n",
    "                  'railway_subway_entrance', 'amenity_school', 'amenity_bank', 'leisure_playground',\\\n",
    "                  'amenity_restaurant', 'shop_supermarket'] "
   ]
  },
  {
   "cell_type": "code",
   "execution_count": null,
   "metadata": {},
   "outputs": [],
   "source": [
    "final_data = np.ndarray(shape=(20998, 49), dtype=float)\n",
    "ind = 0\n",
    "process = 0\n",
    "index_range = np.array([[i] for i in xrange(20998)])\n",
    "columns_for_csv = []\n",
    "for nominator in objects.keys():\n",
    "    if nominator != 'building_apartments':\n",
    "        res = np.load('%s.npy' % nominator)\n",
    "        final_data[:, ind] = res.min(1)\n",
    "        ind += 1\n",
    "        columns_for_csv.append(nominator)\n",
    "        if nominator in nearest_3_list:\n",
    "            final_data[:, ind] = res[index_range, np.argpartition(res, 3)[:, :3]].mean(1)\n",
    "            ind += 1\n",
    "            columns_for_csv.append(nominator + '_3')\n",
    "            \n",
    "        process += 1\n",
    "        print 'process is %d/39' % process"
   ]
  },
  {
   "cell_type": "code",
   "execution_count": null,
   "metadata": {},
   "outputs": [],
   "source": [
    "data = pd.DataFrame(data=final_data, columns=columns_for_csv)"
   ]
  },
  {
   "cell_type": "code",
   "execution_count": null,
   "metadata": {},
   "outputs": [],
   "source": [
    "pd.DataFrame.to_csv(data, 'dataset_without_years.csv',sep='\\t')"
   ]
  }
 ],
 "metadata": {
  "kernelspec": {
   "display_name": "Python 2",
   "language": "python",
   "name": "python2"
  },
  "language_info": {
   "codemirror_mode": {
    "name": "ipython",
    "version": 2
   },
   "file_extension": ".py",
   "mimetype": "text/x-python",
   "name": "python",
   "nbconvert_exporter": "python",
   "pygments_lexer": "ipython2",
   "version": "2.7.12"
  }
 },
 "nbformat": 4,
 "nbformat_minor": 2
}
