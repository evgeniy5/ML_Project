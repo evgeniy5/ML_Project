{
 "cells": [
  {
   "cell_type": "code",
   "execution_count": null,
   "metadata": {},
   "outputs": [],
   "source": [
    "from lxml import html\n",
    "import requests\n",
    "import numpy as np\n",
    "import pandas as pd\n",
    "import pickle"
   ]
  },
  {
   "cell_type": "code",
   "execution_count": null,
   "metadata": {},
   "outputs": [],
   "source": [
    "nominations = {'amenity': ['cafe', 'fast_food', 'food_court', 'pub', 'restaurant', 'kindergarten',\\\n",
    "                       'school', 'university', 'bank', 'clinic', 'dentist', 'doctors', 'hospital', 'arts_centre',\\\n",
    "                       'cinema', 'nightclub', 'theatre', 'marketplace', 'public_bath', 'place_of_worship'],\\\n",
    "           'highway': ['bus_stop'],\\\n",
    "           'railway': ['subway_entrance', 'tram_stop'],\\\n",
    "           'shop':  ['department_store', 'mall', 'supermarket', 'convenience', 'general'],\\\n",
    "           'building': ['apartments'],\\\n",
    "           'man_made':['works'],\\\n",
    "           'leisure':['beach_resort', 'dance', 'fitness_centre', 'ice_rink', 'park', 'pitch', 'playground',\\\n",
    "                      'sports_centre', 'stadium', 'swimming_pool']}"
   ]
  },
  {
   "cell_type": "code",
   "execution_count": null,
   "metadata": {},
   "outputs": [],
   "source": [
    "objects = {}\n",
    "for i in nominations.keys():\n",
    "    for j in nominations[i]:\n",
    "        objects[i + '_' + j] = []\n",
    "print objects"
   ]
  },
  {
   "cell_type": "code",
   "execution_count": null,
   "metadata": {},
   "outputs": [],
   "source": [
    "min_latitude = 55.5737\n",
    "max_latitude = 55.9084\n",
    "min_longitude = 37.3618\n",
    "max_longitude = 37.8438"
   ]
  },
  {
   "cell_type": "code",
   "execution_count": null,
   "metadata": {},
   "outputs": [],
   "source": [
    "lat_div = 5\n",
    "lon_div = 5"
   ]
  },
  {
   "cell_type": "code",
   "execution_count": null,
   "metadata": {},
   "outputs": [],
   "source": [
    "delta_lat, delta_lon = (max_latitude - min_latitude) / lat_div, (max_longitude - min_longitude) / lon_div\n",
    "current_lat, current_lon = min_latitude, min_longitude"
   ]
  },
  {
   "cell_type": "code",
   "execution_count": null,
   "metadata": {},
   "outputs": [],
   "source": [
    "house_addresses = []"
   ]
  },
  {
   "cell_type": "code",
   "execution_count": null,
   "metadata": {},
   "outputs": [],
   "source": [
    "def get_string(x):\n",
    "    if x:\n",
    "        return unicode(x[0])\n",
    "    else:\n",
    "        return ''"
   ]
  },
  {
   "cell_type": "code",
   "execution_count": null,
   "metadata": {},
   "outputs": [],
   "source": [
    "for i in range(lat_div):\n",
    "    for j in range(lon_div):\n",
    "        right_top_point_lat = current_lat + delta_lat\n",
    "        right_top_point_lon = current_lon + delta_lon\n",
    "        !osmosis --read-pbf file=central-fed-district-latest.osm.pbf --bounding-box bottom=$current_lat top=$right_top_point_lat left=$current_lon right=$right_top_point_lon --write-xml file=moscow.osm\n",
    "        \n",
    "        !./osmconvert moscow.osm --all-to-nodes -o=temp.osm\n",
    "        !./osmfilter temp.osm --keep=\"amenity= or building=apartments or highway=bus_stop or shop= or railway=subway_entrance or railway=tram_stop or man_made=works or leisure=\" --drop-author --drop-version -o=amenities.osm\n",
    "        \n",
    "        for nomin_category in nominations.keys():\n",
    "            for nomin in nominations[nomin_category]:\n",
    "                f = open('amenities.osm', 'r')\n",
    "                tree = html.fromstring(f.read())\n",
    "                path = \"//node[./tag/@k='%s' and ./tag/@v='%s']\" % (nomin_category, nomin)\n",
    "                for node in tree.xpath(path):\n",
    "                    objects[nomin_category + '_' + nomin].append([node.get('lat'), node.get('lon')])\n",
    "                    if nomin_category == 'building':\n",
    "                        hn1 = node.xpath(\"./tag[@k='addr:housenumber']/@v\")\n",
    "                        hn2 = node.xpath(\"./tag[@k='addr:housenumber2']/@v\")\n",
    "                        st = node.xpath(\"./tag[@k='addr:street']/@v\")\n",
    "                        house_addresses.append([get_string(hn1), get_string(hn2), get_string(st)])\n",
    "                    \n",
    "        current_lon += delta_lon\n",
    "        print 'progress is %d/25' % (i * lat_div + j + 1)\n",
    "    current_lon = min_longitude\n",
    "    current_lat += delta_lat"
   ]
  },
  {
   "cell_type": "code",
   "execution_count": null,
   "metadata": {},
   "outputs": [],
   "source": [
    "for i in objects.keys():\n",
    "    print i, len(objects[i])"
   ]
  },
  {
   "cell_type": "code",
   "execution_count": null,
   "metadata": {},
   "outputs": [],
   "source": [
    "with open('objects.pickle', 'wb') as f:\n",
    "    pickle.dump(objects, f)"
   ]
  },
  {
   "cell_type": "code",
   "execution_count": null,
   "metadata": {},
   "outputs": [],
   "source": [
    "with open('house_addresses.pickle', 'wb') as f:\n",
    "    pickle.dump(house_addresses, f)"
   ]
  }
 ],
 "metadata": {
  "kernelspec": {
   "display_name": "Python 2",
   "language": "python",
   "name": "python2"
  },
  "language_info": {
   "codemirror_mode": {
    "name": "ipython",
    "version": 2
   },
   "file_extension": ".py",
   "mimetype": "text/x-python",
   "name": "python",
   "nbconvert_exporter": "python",
   "pygments_lexer": "ipython2",
   "version": "2.7.12"
  }
 },
 "nbformat": 4,
 "nbformat_minor": 2
}
